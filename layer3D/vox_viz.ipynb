{
 "cells": [
  {
   "cell_type": "code",
   "execution_count": 7,
   "metadata": {
    "collapsed": true
   },
   "outputs": [],
   "source": [
    "def plot_cube(ax,x,y,z,a):\n",
    "    \"x y z location and alpha\"\n",
    "    \n",
    "    ax.plot_surface([[x,x+1],[x,x+1]],[[y,y],[y+1,y+1]],z, alpha=a)\n",
    "    ax.plot_surface([[x,x+1],[x,x+1]],[[y,y],[y+1,y+1]],z+1, alpha=a)\n",
    "\n",
    "    ax.plot_surface(x,[[y,y],[y+1,y+1]],[[z,z+1],[z,z+1]], alpha=a)\n",
    "    ax.plot_surface(x+1,[[y,y],[y+1,y+1]],[[z,z+1],[z,z+1]], alpha=a)\n",
    "\n",
    "    ax.plot_surface([[x,x],[x+1,x+1]],y,[[z,z+1],[z,z+1]], alpha=a)\n",
    "    ax.plot_surface([[x,x],[x+1,x+1]],y+1,[[z,z+1],[z,z+1]], alpha=a)\n",
    "    "
   ]
  },
  {
   "cell_type": "code",
   "execution_count": null,
   "metadata": {
    "collapsed": false
   },
   "outputs": [],
   "source": [
    "from scipy.io import loadmat\n",
    "V = loadmat('/home/hope-yao/Documents/3dcnn-attention/Pre/pots/teapot1.mat')['instance']\n",
    "fig = plt.figure()\n",
    "ax = fig.add_subplot(111, projection='3d')\n",
    "for i in range(V.shape[0]):\n",
    "    for j in range(V.shape[1]):\n",
    "        for k in range(V.shape[2]):\n",
    "            if V[i,j,k]==1:\n",
    "                plot_cube(ax,i,j,k,0.1)\n",
    "plt.show()"
   ]
  }
 ],
 "metadata": {
  "kernelspec": {
   "display_name": "Python [Root]",
   "language": "python",
   "name": "Python [Root]"
  },
  "language_info": {
   "codemirror_mode": {
    "name": "ipython",
    "version": 2
   },
   "file_extension": ".py",
   "mimetype": "text/x-python",
   "name": "python",
   "nbconvert_exporter": "python",
   "pygments_lexer": "ipython2",
   "version": "2.7.12"
  }
 },
 "nbformat": 4,
 "nbformat_minor": 0
}
